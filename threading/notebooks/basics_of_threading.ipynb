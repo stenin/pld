{
 "cells": [
  {
   "cell_type": "markdown",
   "metadata": {},
   "source": [
    "# Кто не умеет - тот учит)"
   ]
  },
  {
   "cell_type": "markdown",
   "metadata": {},
   "source": [
    "Видимо эта фраза все же мудра, потому что для меня лично, лучший способ понять что-то - это объяснить или рассказать кому-то другому. Поэтому если так случится, что кто-то будет это читать, то знайте, я прямо сейчас или в недалеком прошлом сижу и разбираюсь с подробностями того, как утроена жизнь в python. На этот раз в той его части, которая отвечает за пыполнение многопоточных программ. "
   ]
  },
  {
   "cell_type": "markdown",
   "metadata": {},
   "source": [
    "# Пример 1. Однопоточное выполение"
   ]
  },
  {
   "cell_type": "markdown",
   "metadata": {},
   "source": [
    "Кажется, что большинство существующего кода в мире именно так и работает. Последовательно выполняет заданную серию команд. Давайте сначала разберемся \"на кошках\". На элементарных примерах"
   ]
  },
  {
   "cell_type": "code",
   "execution_count": 10,
   "metadata": {
    "collapsed": false
   },
   "outputs": [
    {
     "name": "stdout",
     "output_type": "stream",
     "text": [
      "starting at: Sat Dec 12 17:41:42 2015\n",
      "start loop 0 at: Sat Dec 12 17:41:42 2015\n",
      "loop 0 done at: Sat Dec 12 17:41:46 2015\n",
      "start loop 1 at: Sat Dec 12 17:41:46 2015\n",
      "loop 1 done at: Sat Dec 12 17:41:48 2015\n",
      "all DONE at: Sat Dec 12 17:41:48 2015\n"
     ]
    }
   ],
   "source": [
    "from time import ctime, sleep\n",
    "\n",
    "\n",
    "def loop0():\n",
    "    print 'start loop 0 at:', ctime()\n",
    "    sleep(4)\n",
    "    print 'loop 0 done at:', ctime()\n",
    "\n",
    "    \n",
    "def loop1():\n",
    "    print 'start loop 1 at:', ctime()\n",
    "    sleep(2)\n",
    "    print 'loop 1 done at:', ctime()\n",
    "    \n",
    "    \n",
    "def main():\n",
    "    print 'starting at:', ctime()\n",
    "    loop0()\n",
    "    loop1()\n",
    "    print 'all DONE at:', ctime()\n",
    "    \n",
    "main()"
   ]
  },
  {
   "cell_type": "markdown",
   "metadata": {},
   "source": [
    "Понятно, что в случае, когда loop0 и loop1 делаю что-то независимое, нет нужды выполнять их последовательно, если это можно сделать одновременно. Поэтому другой пример"
   ]
  },
  {
   "cell_type": "code",
   "execution_count": 11,
   "metadata": {
    "collapsed": true
   },
   "outputs": [],
   "source": [
    "import thread\n",
    "\n",
    "\n",
    "def main():\n",
    "    print 'starting at:', ctime()\n",
    "    thread.start_new_thread(loop0, ())\n",
    "    thread.start_new_thread(loop1, ())\n",
    "    sleep(6)\n",
    "    print 'all DONE at:', ctime()"
   ]
  },
  {
   "cell_type": "code",
   "execution_count": 12,
   "metadata": {
    "collapsed": false
   },
   "outputs": [
    {
     "name": "stdout",
     "output_type": "stream",
     "text": [
      "starting at: Sat Dec 12 17:41:48 2015\n",
      "start loop 0 at: Sat Dec 12 17:41:48 2015\n",
      "start loop 1 at: Sat Dec 12 17:41:48 2015\n",
      "loop 1 done at: Sat Dec 12 17:41:50 2015\n",
      "loop 0 done at: Sat Dec 12 17:41:52 2015\n",
      "all DONE at: Sat Dec 12 17:41:54 2015\n"
     ]
    }
   ],
   "source": [
    "main()"
   ]
  },
  {
   "cell_type": "markdown",
   "metadata": {},
   "source": [
    "Видно, что тут функции выполнились параллельно. Стартовали примерно в одно и то же время, закончились за 4 и 2 секунды соответственно. Но в основной программе мы зачем-то написали sleep(6). Зачем? А затем, что если этого не сделать, то основной процесс завершится сразу, как только запустит функции loop0 и loop1. А как только завершается основной процесс, завершаются еще и все порожденные процессы. А в модуле thread еще к тому же не проиходит очистка памяти от таких принудительно завершенных потоков. А в модуле threading происходит. Об этом подробнее будет далее, но прямо сейчас можно сказать следущее. Модуль thread здесь используется только для ознакомительных целей. А вообще пользоваться им нужно, только если вы в нем хорош разбираетесь и уверены, что сможете с его помощью написать хорошую надежную программу. Если же нет и вам просто нужно что-то многопоточное на python - используйте модуль threading. Он является более высокоуровневым. Примеры с использованием модуля theading будут далее. "
   ]
  },
  {
   "cell_type": "code",
   "execution_count": 15,
   "metadata": {
    "collapsed": false
   },
   "outputs": [
    {
     "name": "stdout",
     "output_type": "stream",
     "text": [
      "starting at: Sat Dec 12 18:04:09 2015\n",
      "all DONE at: Sat Dec 12 18:04:09 2015\n",
      "start loop 0 at: Sat Dec 12 18:04:09 2015\n",
      "start loop 1 at: Sat Dec 12 18:04:09 2015\n",
      "loop 1 done at: Sat Dec 12 18:04:11 2015\n"
     ]
    }
   ],
   "source": [
    "def main():\n",
    "    print 'starting at:', ctime()\n",
    "    thread.start_new_thread(loop0, ())\n",
    "    thread.start_new_thread(loop1, ())\n",
    "    print 'all DONE at:', ctime()\n",
    "    \n",
    "main()"
   ]
  },
  {
   "cell_type": "markdown",
   "metadata": {},
   "source": [
    "Тут наглядно видно, что произлошло, когда мы не подождали завершения дочерных процессов, а сразу вышли из родительского процесса. Один дочерний завершился, а второй - нет. Потому что нет гарантий такого завершения при использовании модуля thread."
   ]
  },
  {
   "cell_type": "markdown",
   "metadata": {},
   "source": [
    "Чтобы иметь какие-то гарантии о том, что родительский процесс дождется окончания дочерних потоков, используют блокировки. Рассмотрим пример."
   ]
  },
  {
   "cell_type": "code",
   "execution_count": 19,
   "metadata": {
    "collapsed": false
   },
   "outputs": [
    {
     "name": "stdout",
     "output_type": "stream",
     "text": [
      "starting at: Sat Dec 12 18:19:00 2015\n",
      "start loop 1  at: Sat Dec 12 18:19:00 2015\n",
      "start loop 0  at: Sat Dec 12 18:19:00 2015\n",
      "loop 0  done at: Sat Dec 12 18:19:02 2015\n",
      "loop 1  done at: Sat Dec 12 18:19:04 2015\n",
      "all DONE at: Sat Dec 12 18:19:04 2015\n"
     ]
    }
   ],
   "source": [
    "loops = [2, 4]\n",
    "\n",
    "def loop(index, n_seconds, lock):\n",
    "    print 'start loop', index, ' at:' , ctime()\n",
    "    sleep(n_seconds)\n",
    "    print 'loop', index, ' done at:', ctime()\n",
    "    lock.release()\n",
    "    \n",
    "    \n",
    "def main():\n",
    "    print 'starting at:', ctime()\n",
    "    locks = []\n",
    "    n_loops = xrange(len(loops))\n",
    "    \n",
    "    for i in n_loops:\n",
    "        lock = thread.allocate_lock()   # заводим объект блокировки\n",
    "        lock.acquire()                  # захватываем этот объект, то есть блокируем доступ\n",
    "        locks.append(lock)              # и запоминаем все такие объекты в лист locks\n",
    "        \n",
    "    for i in n_loops:                   # в новом треде запускаем функцию loop с параметрами\n",
    "                                        # индекс, число секунд, которое надо спать\n",
    "                                        # объект блокировки, чтобы после окончания работы функции его разблокировать\n",
    "        thread.start_new_thread(loop, (i, loops[i], locks[i]))\n",
    "        \n",
    "    for i in n_loops:                   # этот код просто ждет, пока все объекты блокировки в массиве locks\n",
    "                                        # разблокируются. \n",
    "        while locks[i].locked(): \n",
    "            pass\n",
    "    print 'all DONE at:', ctime()\n",
    "    \n",
    "    \n",
    "main()"
   ]
  },
  {
   "cell_type": "markdown",
   "metadata": {},
   "source": [
    "# Модуль threading"
   ]
  },
  {
   "cell_type": "markdown",
   "metadata": {},
   "source": [
    "Сначала еще про недостаток модуля thread. В модуле thread не поддерживается принцип организации работы потоков на основе демонов. Это когда можно завершить родительский процесс, дочерние продолжат работу. Вот с помощью модул thread так сделать не получится. А помощью модуля threading - можно. Примеры будут ниже. "
   ]
  },
  {
   "cell_type": "markdown",
   "metadata": {},
   "source": [
    "Про класс threading.Thread"
   ]
  },
  {
   "cell_type": "markdown",
   "metadata": {},
   "source": [
    "Можно посмотреть на \"публичные\" методы и атрибуты класса (в явном виде понятия публичных метдов в python нет, но методы, которые начинаются на _, считаются приватными)."
   ]
  },
  {
   "cell_type": "code",
   "execution_count": 28,
   "metadata": {
    "collapsed": false
   },
   "outputs": [
    {
     "data": {
      "text/plain": [
       "['daemon',\n",
       " 'getName',\n",
       " 'ident',\n",
       " 'isAlive',\n",
       " 'isDaemon',\n",
       " 'is_alive',\n",
       " 'join',\n",
       " 'name',\n",
       " 'run',\n",
       " 'setDaemon',\n",
       " 'setName',\n",
       " 'start']"
      ]
     },
     "execution_count": 28,
     "metadata": {},
     "output_type": "execute_result"
    }
   ],
   "source": [
    "import threading\n",
    "filter( lambda line: not line.startswith('_'), dir(threading.Thread))"
   ]
  },
  {
   "cell_type": "code",
   "execution_count": null,
   "metadata": {
    "collapsed": true
   },
   "outputs": [],
   "source": []
  }
 ],
 "metadata": {
  "kernelspec": {
   "display_name": "Python 2",
   "language": "python",
   "name": "python2"
  },
  "language_info": {
   "codemirror_mode": {
    "name": "ipython",
    "version": 2
   },
   "file_extension": ".py",
   "mimetype": "text/x-python",
   "name": "python",
   "nbconvert_exporter": "python",
   "pygments_lexer": "ipython2",
   "version": "2.7.6"
  }
 },
 "nbformat": 4,
 "nbformat_minor": 0
}
