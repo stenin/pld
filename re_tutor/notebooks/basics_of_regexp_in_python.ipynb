{
 "cells": [
  {
   "cell_type": "markdown",
   "metadata": {},
   "source": [
    "# Введение в регулярные выражение в python"
   ]
  },
  {
   "cell_type": "markdown",
   "metadata": {},
   "source": [
    "Для тех, кто в танке) Работа с регулярными выражениями в питоне осуществляется с помощью модуля re. Регулярные выражения служат, как правило, двум целям. Первое. Проверить, что строка удовлетворяет заданному шаблону. Второе. Найти все вхождения шаблона в строку. За первое отвечает match, за второе - search или find. Еще есть опция замены одного шаблона на строку или другой шаблон. За это отвечает sub и subn. Писанные сущности match, search, sub, subn могут быть как функциями модуля re, так и методами скомпилированного  регулярного выражения. Но об этом подробно далее. "
   ]
  },
  {
   "cell_type": "markdown",
   "metadata": {},
   "source": [
    "# Основы"
   ]
  },
  {
   "cell_type": "code",
   "execution_count": 4,
   "metadata": {
    "collapsed": true
   },
   "outputs": [],
   "source": [
    "import re"
   ]
  },
  {
   "cell_type": "markdown",
   "metadata": {},
   "source": [
    "Рассматривать примеры пока будем на основании функции match. Функция служит для проверки того, что строка соответствует заданному шаблону. Пример. Пусть есть шаблон "
   ]
  },
  {
   "cell_type": "code",
   "execution_count": 5,
   "metadata": {
    "collapsed": true
   },
   "outputs": [],
   "source": [
    "pattern = r'abc|cde'"
   ]
  },
  {
   "cell_type": "markdown",
   "metadata": {},
   "source": [
    "Ему удовлетворяют все строки, которые начинаются на abc или на cde. Давайте это проверим. Для удобства создадим функцию check_match для проверки того, описывает ли заданное регулярное выражение заданную строку, или нет."
   ]
  },
  {
   "cell_type": "code",
   "execution_count": 6,
   "metadata": {
    "collapsed": false
   },
   "outputs": [],
   "source": [
    "def check_match(pattern, line, flags=0):\n",
    "    m = re.match(pattern, line, flags)\n",
    "    if not m:\n",
    "        print '\"' + line + '\"' + \" does not match pattern \" + '\"' + pattern + '\"'\n",
    "        return\n",
    "    print '\"' + line + '\"' + \" matches patern \" + '\"' + pattern + '\"'\n",
    "    print '\"' + m.group() + '\"' + \" provides this match\"\n",
    "    print \"\""
   ]
  },
  {
   "cell_type": "code",
   "execution_count": 7,
   "metadata": {
    "collapsed": false
   },
   "outputs": [
    {
     "name": "stdout",
     "output_type": "stream",
     "text": [
      "\"a\" does not match pattern \"abc|cde\"\n",
      "\"abc\" matches patern \"abc|cde\"\n",
      "\"abc\" provides this match\n",
      "\n",
      "\"abcdelkj\" matches patern \"abc|cde\"\n",
      "\"abc\" provides this match\n",
      "\n",
      "\"cde\" matches patern \"abc|cde\"\n",
      "\"cde\" provides this match\n",
      "\n",
      "\" 123 sd\" does not match pattern \"abc|cde\"\n"
     ]
    }
   ],
   "source": [
    "lines = [\n",
    "    'a',\n",
    "    'abc', \n",
    "    'abcdelkj',\n",
    "    'cde',\n",
    "    ' 123 sd'\n",
    "]\n",
    "for line in lines:\n",
    "    check_match(pattern, line)"
   ]
  },
  {
   "cell_type": "markdown",
   "metadata": {},
   "source": [
    "Что тут нужно заметить. Первое. Если начало строки удовлетворяет шаблону, то вся строка удовлетворяет шаблону. Второе. Если строка не сооветствует шаблону (не матчится), то re.match возвращает None. Третье. Если строка шаблону удовлетворяет, то можно увидеть, по какому набору символов удалось сопоставить (заматчить) шаблон и строку. Для этого достаточно вызвать метод group() у объекта, который возвращает функция re.match()."
   ]
  },
  {
   "cell_type": "markdown",
   "metadata": {},
   "source": [
    "# Синтаксис регулярных выражений. "
   ]
  },
  {
   "cell_type": "markdown",
   "metadata": {},
   "source": [
    "Простейший случай мы разобрали выше. Подряд идущая группа символов описывает точно то, с чем должно совпадать начало строки. Знак вертикальной черты \"|\", также называемый оператором pipe или конвеером, означает в регулярных выражениях логическое ИЛИ."
   ]
  },
  {
   "cell_type": "markdown",
   "metadata": {},
   "source": [
    "Символ точки \".\" означает любой символ, кроме знака перевода строки \"\\n\". С помощью флагов компиляции можно указать, чтобы точка обозначала вообще любой символ, даже символ перевода строки, но об этом чуть позже. Пример."
   ]
  },
  {
   "cell_type": "code",
   "execution_count": 8,
   "metadata": {
    "collapsed": false
   },
   "outputs": [
    {
     "name": "stdout",
     "output_type": "stream",
     "text": [
      "\"3.14\" matches patern \"3.14\"\n",
      "\"3.14\" provides this match\n",
      "\n",
      "\"3.14\" matches patern \"3\\.14\"\n",
      "\"3.14\" provides this match\n",
      "\n",
      "\"3014\" matches patern \"3.14\"\n",
      "\"3014\" provides this match\n",
      "\n",
      "\"3014\" does not match pattern \"3\\.14\"\n"
     ]
    }
   ],
   "source": [
    "pi_pattern = '3.14' # здесь точка означает любой символ, кроме символа перевода строки\n",
    "exact_pi_pattern = '3\\.14' # здесь в шаблоне регулярного выражения \\. означает десятичную точку\n",
    "\n",
    "check_match(pi_pattern, '3.14')\n",
    "check_match(exact_pi_pattern, '3.14')\n",
    "check_match(pi_pattern, '3014')\n",
    "check_match(exact_pi_pattern, '3014')"
   ]
  },
  {
   "cell_type": "markdown",
   "metadata": {},
   "source": [
    "Квадратные скобки позволяют задвать набор символов, которые должны стоять на заданном месте. Например регулярное выражение [ab][de] обозначает строки, которые начинаются на ad, или на ae, или на bd, или на be"
   ]
  },
  {
   "cell_type": "code",
   "execution_count": 11,
   "metadata": {
    "collapsed": false
   },
   "outputs": [
    {
     "name": "stdout",
     "output_type": "stream",
     "text": [
      "\"r2d2\" matches patern \"[cr][23][dp][o2]\"\n",
      "\"r2d2\" provides this match\n",
      "\n",
      "\"c3po\" matches patern \"[cr][23][dp][o2]\"\n",
      "\"c3po\" provides this match\n",
      "\n",
      "\"ololo\" does not match pattern \"[cr][23][dp][o2]\"\n"
     ]
    }
   ],
   "source": [
    "pattern = '[cr][23][dp][o2]'\n",
    "check_match(pattern, 'r2d2')\n",
    "check_match(pattern, 'c3po')\n",
    "check_match(pattern, 'ololo')"
   ]
  },
  {
   "cell_type": "markdown",
   "metadata": {},
   "source": [
    "Указав в начале квадратных скобок знак домика \"^\", можно поменять смысл квадратных скобок на противоположный - теперь они будут обозначать любой знак, который не встречается в квадратных скобках после знака домика. "
   ]
  },
  {
   "cell_type": "code",
   "execution_count": 12,
   "metadata": {
    "collapsed": false
   },
   "outputs": [
    {
     "name": "stdout",
     "output_type": "stream",
     "text": [
      "\"r2d2\" does not match pattern \"[^cr][^23][^dp][^o2]\"\n",
      "\"c3po\" does not match pattern \"[^cr][^23][^dp][^o2]\"\n",
      "\"ololo\" matches patern \"[^cr][^23][^dp][^o2]\"\n",
      "\"olol\" provides this match\n",
      "\n"
     ]
    }
   ],
   "source": [
    "pattern = '[^cr][^23][^dp][^o2]'\n",
    "check_match(pattern, 'r2d2')\n",
    "check_match(pattern, 'c3po')\n",
    "check_match(pattern, 'ololo')"
   ]
  },
  {
   "cell_type": "markdown",
   "metadata": {},
   "source": [
    "# Диапазоны символов (range)"
   ]
  },
  {
   "cell_type": "markdown",
   "metadata": {},
   "source": [
    "В квадратных скобках можно указывать не только наборы символов, но и диапазоны. Например, мы хотим проверить, что строка начинается с четырех цифр, каждая из которых - от двух до семи (уж не знаю, за чем нам понадобились таки странные числа, но все же давайте напряжем воображение). Вместо того, чтобы писать 4 раза [234567], можно 4 раза написать [2-7]"
   ]
  },
  {
   "cell_type": "code",
   "execution_count": 13,
   "metadata": {
    "collapsed": false
   },
   "outputs": [
    {
     "name": "stdout",
     "output_type": "stream",
     "text": [
      "\"r2d2\" does not match pattern \"[2-7][2-7][2-7][2-7]\"\n",
      "\"c3po\" does not match pattern \"[2-7][2-7][2-7][2-7]\"\n",
      "\"2534 sdf\" matches patern \"[2-7][2-7][2-7][2-7]\"\n",
      "\"2534\" provides this match\n",
      "\n"
     ]
    }
   ],
   "source": [
    "pattern = '[2-7][2-7][2-7][2-7]'\n",
    "check_match(pattern, 'r2d2')\n",
    "check_match(pattern, 'c3po')\n",
    "check_match(pattern, '2534 sdf')"
   ]
  },
  {
   "cell_type": "markdown",
   "metadata": {},
   "source": [
    "# Символы повторения"
   ]
  },
  {
   "cell_type": "markdown",
   "metadata": {},
   "source": [
    "Согласитесь, что странно 4 раза в примере выше писать один и тот же код \"[2-7]\". И действительно, есть куча способов сказать, что мы не один раз хотим увидеть цифру от двух до семи, а несколько. Для этого есть специальные символы повторения. Символ * в регулярном выражении означает, что символ может встречаться ноль или более раз, символ + означает, что символ может встречаться один или более раз, запись {4} означает, что символ или группа символов встречается 4 раза. Четверку можно заменить на любое натуральное число. Примеры в студию"
   ]
  },
  {
   "cell_type": "code",
   "execution_count": 14,
   "metadata": {
    "collapsed": false
   },
   "outputs": [
    {
     "name": "stdout",
     "output_type": "stream",
     "text": [
      "\" 2345 lkj\" matches patern \"[2-7]*\"\n",
      "\"\" provides this match\n",
      "\n",
      "\"c3po\" does not match pattern \"[2-7]+\"\n",
      "\"2534 sdf\" matches patern \"[2-7]{4}\"\n",
      "\"2534\" provides this match\n",
      "\n",
      "\"2534 sdf\" does not match pattern \"[2-7]{5}\"\n"
     ]
    }
   ],
   "source": [
    "check_match('[2-7]*', ' 2345 lkj')\n",
    "check_match('[2-7]+', 'c3po')\n",
    "check_match('[2-7]{4}', '2534 sdf')\n",
    "check_match('[2-7]{5}', '2534 sdf')"
   ]
  },
  {
   "cell_type": "markdown",
   "metadata": {},
   "source": [
    "# Специальные символы"
   ]
  },
  {
   "cell_type": "markdown",
   "metadata": {},
   "source": [
    "Для обозначения цифр, знаков пробелов, цифро-буквенных символов применяются специальные символы.\n",
    "\n",
    "\\d обозначает любую из цифр. Эквивалентен [0-9]\n",
    "\n",
    "\\D обозначает любой символ, кроме цифры. Эквивалентен [^0-9]\n",
    "\n",
    "\\w обозначает любой алфавитно-цифровой символ. Если быть совсем точным, то он эквивалентен [0-9a-zA-Z_]\n",
    "\n",
    "\\W обозначает любой символ, который не попадает под описание  \\w из прошлой строк \n",
    "\n",
    "\\s обозначает любой пробельный символ, например пробел, перевод строки, табуляция и прочее. Эквивалентен [\\n\\t\\r\\v\\f]\n",
    "\n",
    "\\S обозначет любой символ, не попадающий под описание \\s\n",
    "\n",
    "^ обозначает начало строки\n",
    "\n",
    "$ обозначает конец строки\n",
    "\n",
    "\\b обозначает границу слова - не важно, начало или конец\n",
    "\n",
    "\\N, где N - это натуральное число, обозначает номер группы. Об этом далее."
   ]
  },
  {
   "cell_type": "markdown",
   "metadata": {
    "collapsed": true
   },
   "source": [
    "Примеры с началом и концом строк, пробелами"
   ]
  },
  {
   "cell_type": "code",
   "execution_count": 15,
   "metadata": {
    "collapsed": false
   },
   "outputs": [
    {
     "name": "stdout",
     "output_type": "stream",
     "text": [
      "\"The best inthe world Hello!\" matches patern \"^The\"\n",
      "\"The\" provides this match\n",
      "\n",
      "\"The best inthe world Hello!\" matches patern \"\\bThe\"\n",
      "\"The\" provides this match\n",
      "\n",
      "\"The best inthe world Hello!\" does not match pattern \"\\Bthe\"\n",
      "\"The best inthe world Hello!\" matches patern \"(\\w+\\s+){2}\\w*the[\\w\\s]*\"\n",
      "\"The best inthe world Hello\" provides this match\n",
      "\n"
     ]
    }
   ],
   "source": [
    "patterns = [\n",
    "    r'^The',\n",
    "    r'\\bThe',\n",
    "    r'\\Bthe',\n",
    "    r'(\\w+\\s+){2}\\w*the[\\w\\s]*' # убранное в скобки выражение называется группой, {2} означает, что \n",
    "                                # выражение перед {2} должно встретиться два раза. Вместо 2 может быть\n",
    "                                # любое натуральное число. Можно также здавать не точное число раз, а диапазон\n",
    "                                # {2,5} говорит о том, что символ или группа перед {2,5} должны встретиться\n",
    "                                # не меньше двух и не более 5 раз\n",
    "]\n",
    "line = 'The best inthe world Hello!'\n",
    "for p in patterns:\n",
    "    check_match(p, line)"
   ]
  },
  {
   "cell_type": "markdown",
   "metadata": {},
   "source": [
    "# Подробнее про функции и методы классов re"
   ]
  },
  {
   "cell_type": "markdown",
   "metadata": {},
   "source": [
    "До сих пор я упорно скрывал синтаксис команд регулярных выражений, завернув их в функцию check_match.\n",
    "\n",
    "Пришло время рассказать подробнее.\n",
    "\n",
    "В простейшем случае проверка матчинга строки шаблону происходит так"
   ]
  },
  {
   "cell_type": "code",
   "execution_count": 16,
   "metadata": {
    "collapsed": false
   },
   "outputs": [
    {
     "name": "stdout",
     "output_type": "stream",
     "text": [
      "olololosl\n"
     ]
    }
   ],
   "source": [
    "line = 'olololosl'\n",
    "pattern = r'\\w+'\n",
    "\n",
    "m = re.match(pattern, line)\n",
    "if m:\n",
    "    print m.group()"
   ]
  },
  {
   "cell_type": "markdown",
   "metadata": {},
   "source": [
    "re.match возвращает объект регулярного выражения. Если заматчить строку шаблону не получилось, то вернется None, поэтому, чтобы не выкидывались исключения, обычно проверяют, что вернулось - для этого в данном примере используется if.\n",
    "\n",
    "метод group объекта регулярного выражения возвращает стоку, которую удалось сопоставить регулярному выражению.\n",
    "\n",
    "Все, что в регулярном выражении заключено в круглые скобки, считается так называемой группой, и к элементам группы можно обращаться через метод group, в случае удачного матча строки и регулярного выражения"
   ]
  },
  {
   "cell_type": "code",
   "execution_count": 17,
   "metadata": {
    "collapsed": false
   },
   "outputs": [
    {
     "name": "stdout",
     "output_type": "stream",
     "text": [
      "abc\n",
      "123\n",
      "('abc', '123')\n"
     ]
    }
   ],
   "source": [
    "line = 'abc-123'\n",
    "pattern = r'(\\w+)-(\\d+)'\n",
    "\n",
    "m = re.match(pattern, line)\n",
    "if m:\n",
    "    print m.group(1)\n",
    "    print m.group(2)\n",
    "    print m.groups() # еще есть метод groups, который сразу вернет содержимое групп в виде кортежа"
   ]
  },
  {
   "cell_type": "markdown",
   "metadata": {},
   "source": [
    "Согласитесь, полезная штука. Позволит доставать части регулярно выражения задешево. Без дополнительных плат на то, чтобы разделять то, что нашлось с помощью регулярного выражения."
   ]
  },
  {
   "cell_type": "markdown",
   "metadata": {},
   "source": [
    "Но с помощью регулярных выражений можно не только проверять, подходит ли строка под шаблон, но и находить шаблоны в строке. Для этого используется функция re.search или одноименный метод объекта скомпилированного регулярного выражения (у объектов скомпилированных регулярных выражений есть и метод match тоже; об этом чуть далее будет отдельно). С помощью этого метода можно проверить вхождение шаблона в строку, шаблон может входить в строку в любом месте, не только в начале\n",
    "\n",
    "Простейший пример"
   ]
  },
  {
   "cell_type": "code",
   "execution_count": 14,
   "metadata": {
    "collapsed": false
   },
   "outputs": [
    {
     "name": "stdout",
     "output_type": "stream",
     "text": [
      "a\n",
      "abcdef\n",
      "09\n"
     ]
    }
   ],
   "source": [
    "line = 'abcdef 098'\n",
    "patterns = [\n",
    "    r'\\w',\n",
    "    r'\\w+',\n",
    "    r'\\b09'\n",
    "]\n",
    "for p in patterns:\n",
    "    s = re.search(p, line)\n",
    "    print s.group()"
   ]
  },
  {
   "cell_type": "markdown",
   "metadata": {
    "collapsed": true
   },
   "source": [
    "Также можно не только проверить факт вхождения шаблона в строку, но и найти все непересекающиеся вхождения этого шаблона в строку. Делается это с помощью функции findall. Для примера давайте найдем все слова в строке"
   ]
  },
  {
   "cell_type": "code",
   "execution_count": 15,
   "metadata": {
    "collapsed": false
   },
   "outputs": [],
   "source": [
    "line = 'this car is very good'\n",
    "pattern = r'\\w+'\n",
    "result = re.findall(pattern, line)"
   ]
  },
  {
   "cell_type": "code",
   "execution_count": 16,
   "metadata": {
    "collapsed": false
   },
   "outputs": [
    {
     "name": "stdout",
     "output_type": "stream",
     "text": [
      "['this', 'car', 'is', 'very', 'good']\n"
     ]
    }
   ],
   "source": [
    "print result"
   ]
  },
  {
   "cell_type": "markdown",
   "metadata": {},
   "source": [
    "Но мы-то с вами продвинутые пользователи, и знаем, что если строка окажется очень большой, то такая функция вернет очень длинный лист. Поэтому эта функция имеет эквивалентную ей, которая возвращает не лист с совпадениями, а итератор на такой лист. Функция называется finditer. Давайте рассмотрим на примере."
   ]
  },
  {
   "cell_type": "code",
   "execution_count": 17,
   "metadata": {
    "collapsed": true
   },
   "outputs": [],
   "source": [
    "line = 'this car is very good'\n",
    "pattern = r'\\w+'\n",
    "result_iter = re.finditer(pattern, line)"
   ]
  },
  {
   "cell_type": "code",
   "execution_count": 18,
   "metadata": {
    "collapsed": false
   },
   "outputs": [
    {
     "data": {
      "text/plain": [
       "'this'"
      ]
     },
     "execution_count": 18,
     "metadata": {},
     "output_type": "execute_result"
    }
   ],
   "source": [
    "result_iter.next().group()"
   ]
  },
  {
   "cell_type": "code",
   "execution_count": 19,
   "metadata": {
    "collapsed": false
   },
   "outputs": [
    {
     "data": {
      "text/plain": [
       "'car'"
      ]
     },
     "execution_count": 19,
     "metadata": {},
     "output_type": "execute_result"
    }
   ],
   "source": [
    "result_iter.next().group()"
   ]
  },
  {
   "cell_type": "code",
   "execution_count": 20,
   "metadata": {
    "collapsed": false
   },
   "outputs": [
    {
     "data": {
      "text/plain": [
       "'is'"
      ]
     },
     "execution_count": 20,
     "metadata": {},
     "output_type": "execute_result"
    }
   ],
   "source": [
    "result_iter.next().group()"
   ]
  },
  {
   "cell_type": "code",
   "execution_count": 21,
   "metadata": {
    "collapsed": false
   },
   "outputs": [
    {
     "data": {
      "text/plain": [
       "'very'"
      ]
     },
     "execution_count": 21,
     "metadata": {},
     "output_type": "execute_result"
    }
   ],
   "source": [
    "result_iter.next().group()"
   ]
  },
  {
   "cell_type": "code",
   "execution_count": 22,
   "metadata": {
    "collapsed": false
   },
   "outputs": [
    {
     "data": {
      "text/plain": [
       "'good'"
      ]
     },
     "execution_count": 22,
     "metadata": {},
     "output_type": "execute_result"
    }
   ],
   "source": [
    "result_iter.next().group()"
   ]
  },
  {
   "cell_type": "code",
   "execution_count": 23,
   "metadata": {
    "collapsed": false
   },
   "outputs": [
    {
     "ename": "StopIteration",
     "evalue": "",
     "output_type": "error",
     "traceback": [
      "\u001b[1;31m---------------------------------------------------------------------------\u001b[0m",
      "\u001b[1;31mStopIteration\u001b[0m                             Traceback (most recent call last)",
      "\u001b[1;32m<ipython-input-23-d8debea3c48c>\u001b[0m in \u001b[0;36m<module>\u001b[1;34m()\u001b[0m\n\u001b[1;32m----> 1\u001b[1;33m \u001b[0mresult_iter\u001b[0m\u001b[1;33m.\u001b[0m\u001b[0mnext\u001b[0m\u001b[1;33m(\u001b[0m\u001b[1;33m)\u001b[0m\u001b[1;33m.\u001b[0m\u001b[0mgroup\u001b[0m\u001b[1;33m(\u001b[0m\u001b[1;33m)\u001b[0m\u001b[1;33m\u001b[0m\u001b[0m\n\u001b[0m",
      "\u001b[1;31mStopIteration\u001b[0m: "
     ]
    }
   ],
   "source": [
    "result_iter.next().group()"
   ]
  },
  {
   "cell_type": "markdown",
   "metadata": {},
   "source": [
    "Все отработало, как положено уважающему себя итератору - при вызове метода next() он возвращает следующий удачный результат поиска. Когда результаты кончаются, он выкидывает исключение StopIteration, как это делают все итераторы. "
   ]
  },
  {
   "cell_type": "markdown",
   "metadata": {},
   "source": [
    "Еще осталось несколько функций, и на этом зевершим раздел. Регулярные выражения позволяют делать замену части строки, которая удовлетворяет регулярному выражению. Делается с помощью функции sub или subn. Вторая отличается от первой тем, что возвращает и еще число раз, которое оно заменило регулярное выражение на то, что мы указали. Заменять можно как на что-то фиксированное, так и переставлять разные части строки, совпадающие с разными группами, созданными в шаблоне регулярного выражения. Звучит, наверно, диковато, поэтому давайте к примерам. Сначала простой пример. Хотим заменить все подряд идущие цифры на XXXX."
   ]
  },
  {
   "cell_type": "code",
   "execution_count": 18,
   "metadata": {
    "collapsed": false
   },
   "outputs": [
    {
     "name": "stdout",
     "output_type": "stream",
     "text": [
      "It is XXXX good XXXX for XXXX us.\n"
     ]
    }
   ],
   "source": [
    "line = 'It is 203948 good 2398 for 0239 us.'\n",
    "pattern = r'\\d+'\n",
    "print re.sub(pattern, 'XXXX', line)"
   ]
  },
  {
   "cell_type": "markdown",
   "metadata": {},
   "source": [
    "Можно еще вызвать subn - тогда она вернет кортеж из новой строки и числа замен в строке"
   ]
  },
  {
   "cell_type": "code",
   "execution_count": 19,
   "metadata": {
    "collapsed": false
   },
   "outputs": [
    {
     "name": "stdout",
     "output_type": "stream",
     "text": [
      "('It is XXXX good XXXX for XXXX us.', 3)\n"
     ]
    }
   ],
   "source": [
    "line = 'It is 203948 good 2398 for 0239 us.'\n",
    "pattern = r'\\d+'\n",
    "print re.subn(pattern, 'XXXX', line)"
   ]
  },
  {
   "cell_type": "markdown",
   "metadata": {},
   "source": [
    "Согласитесь, полезная штука. Например вы хотите отправить 200 писем, а списко адресатов еще не готов. Просто вместо имени пишете XXXX, а потом в цикле заменяете с помощью регулярного выражения XXXX на имя получателя письма. Кто-то скажет, что это можно было сделать с помощью метода replace класса обычной питоновской строки. Что-ж, верно. Тогда пример посложнее, заодно с группами поработаем. Пусть вам прислали в файле даты в американском формате - ГГГГ-ДД-ММ, то есть сначала написан год, потом день, потом месяц. А вы к такомы не привыкли - неудобно. Надо переставить местами месяцы и дни. Так вот тут нам на помощь и придут группы. К ним не только можно иметь отдельный доступ после того, как строка подошла шаблону после re.match или re.search, но еще и использовать их во втором аргументе функции re.sub, чтобы задать параметры замены. Делается с помощью \\N, где N - номер группы. Чтобы стало понятнее - пример."
   ]
  },
  {
   "cell_type": "code",
   "execution_count": 27,
   "metadata": {
    "collapsed": true
   },
   "outputs": [],
   "source": [
    "american_date = '2015-20-11'\n",
    "date_pattern_with_groups = r'(\\d{2}|\\d{4})-(\\d{1,2})-(\\d{1,2})'\n",
    "# первая группа - год из двух или четырех цифр, потом тире, потом день из одной или двух цифр, потом месяц\n",
    "# хотим переставить местами месяц и день\n",
    "replace_pattern = r'\\1-\\3-\\2' # так и говорим - хотим сначала первую группу, потом - третью, потом - первую"
   ]
  },
  {
   "cell_type": "markdown",
   "metadata": {},
   "source": [
    "Теперь, собвственно, замена"
   ]
  },
  {
   "cell_type": "code",
   "execution_count": 28,
   "metadata": {
    "collapsed": false
   },
   "outputs": [
    {
     "data": {
      "text/plain": [
       "'2015-11-20'"
      ]
     },
     "execution_count": 28,
     "metadata": {},
     "output_type": "execute_result"
    }
   ],
   "source": [
    "re.sub(date_pattern_with_groups, replace_pattern, american_date)"
   ]
  },
  {
   "cell_type": "markdown",
   "metadata": {},
   "source": [
    "Вуаля, вы великолепны!"
   ]
  },
  {
   "cell_type": "markdown",
   "metadata": {
    "collapsed": true
   },
   "source": [
    "# Про объекты регулярных выражений"
   ]
  },
  {
   "cell_type": "markdown",
   "metadata": {},
   "source": [
    "Для чего они нужны? Есть же функции re.search, re.match и прочие. Ответ такой. Нужны для ускорения кода. Когда вызывается функция re.search, то, что задано в качестве шаблона компилируется кодом на C в бинарное представление специальными средствами модуля re. Делается это каждый раз, когда вы вызваете функцию. Если вы вызываете ее 100500 раз в цикле, то 100500 раз будет происходить компиляция. Спрашивается - зачем? Можно же один раз скомпилировать и сэеономить кучу времени. Вот для этого и нужны объекты регулярных выражений. Пример"
   ]
  },
  {
   "cell_type": "code",
   "execution_count": 25,
   "metadata": {
    "collapsed": true
   },
   "outputs": [],
   "source": [
    "compiled_re = re.compile(r'\\d+')  # выражение для поиска групп из хотя бы одной цифры в строке"
   ]
  },
  {
   "cell_type": "code",
   "execution_count": 22,
   "metadata": {
    "collapsed": false
   },
   "outputs": [
    {
     "name": "stdout",
     "output_type": "stream",
     "text": [
      "None\n",
      "<_sre.SRE_Match object at 0x7fb414a50988>\n"
     ]
    }
   ],
   "source": [
    "result = compiled_re.search('laksjdf')\n",
    "print result\n",
    "\n",
    "result = compiled_re.search('sldkfj 098')\n",
    "print result"
   ]
  },
  {
   "cell_type": "code",
   "execution_count": 24,
   "metadata": {
    "collapsed": false
   },
   "outputs": [
    {
     "data": {
      "text/plain": [
       "'098'"
      ]
     },
     "execution_count": 24,
     "metadata": {},
     "output_type": "execute_result"
    }
   ],
   "source": [
    "result.group()"
   ]
  },
  {
   "cell_type": "markdown",
   "metadata": {},
   "source": [
    "Видно, что можно повторно использовать скомпилированный объект класса регулярного выражения. Можно даже не только для поиска, но и для замены, матчинга и поиска."
   ]
  },
  {
   "cell_type": "code",
   "execution_count": 28,
   "metadata": {
    "collapsed": false
   },
   "outputs": [
    {
     "name": "stdout",
     "output_type": "stream",
     "text": [
      "ololo XXXX ololo XXXX ololo\n",
      "['909', '098']\n"
     ]
    }
   ],
   "source": [
    "# пример с заменой\n",
    "line = 'ololo 909 ololo 098 ololo'\n",
    "\n",
    "result = compiled_re.sub('XXXX', line)\n",
    "print result\n",
    "\n",
    "# пример с поиском\n",
    "result = compiled_re.findall(line)\n",
    "print result"
   ]
  },
  {
   "cell_type": "markdown",
   "metadata": {},
   "source": [
    "# Про жадность"
   ]
  },
  {
   "cell_type": "markdown",
   "metadata": {},
   "source": [
    "Операторы *,+,?,{} работают жадным образом. То есть они пытаются найти строку как можно большей длины, которая удовлетворяет шаблону. Давайте сразу пример. Пусть мы хотим вытащить из строки последовательность цифр, разделенную знаками -. Например, телефонный номер, который записан на конце строки. А в начале строки есть какой-то текст. "
   ]
  },
  {
   "cell_type": "code",
   "execution_count": 29,
   "metadata": {
    "collapsed": true
   },
   "outputs": [],
   "source": [
    "line = ' s;dlfkj s;dflkj s;dlkfj s;ldfkj 111-11-11'"
   ]
  },
  {
   "cell_type": "markdown",
   "metadata": {},
   "source": [
    "Ну и казалось бы, что может быть легче - сначала пропустим все символы, потом будем искать номер телефона. "
   ]
  },
  {
   "cell_type": "code",
   "execution_count": 35,
   "metadata": {
    "collapsed": false
   },
   "outputs": [
    {
     "data": {
      "text/plain": [
       "'1-11-11'"
      ]
     },
     "execution_count": 35,
     "metadata": {},
     "output_type": "execute_result"
    }
   ],
   "source": [
    "pattern = '.*(\\d+-\\d+-\\d+)'\n",
    "re.match(pattern, line).group(1)"
   ]
  },
  {
   "cell_type": "markdown",
   "metadata": {},
   "source": [
    "Видно, что первые две единицы отрезало. Это из-за того, что часть .* регулярного выражения нашла последовательность максимальной длины, которая ей удовлетворяет. От этого эффекта можно избавиться, если указать оператору *, что надо использовать его нежадную версию - чтобы он не искал самую длинную подстроку, а нашел самую короткую, которая подходит. Это делается с помощью записи ? после *. Это же относится ко всем операторам - *,+,?,{}"
   ]
  },
  {
   "cell_type": "code",
   "execution_count": 36,
   "metadata": {
    "collapsed": false
   },
   "outputs": [
    {
     "data": {
      "text/plain": [
       "'111-11-11'"
      ]
     },
     "execution_count": 36,
     "metadata": {},
     "output_type": "execute_result"
    }
   ],
   "source": [
    "pattern = '.*?(\\d+-\\d+-\\d+)'\n",
    "re.match(pattern, line).group(1)"
   ]
  },
  {
   "cell_type": "markdown",
   "metadata": {},
   "source": [
    "Вуаля, вы снова великолепны! =)"
   ]
  },
  {
   "cell_type": "markdown",
   "metadata": {},
   "source": [
    "# На этом хватит, для начала"
   ]
  },
  {
   "cell_type": "markdown",
   "metadata": {},
   "source": [
    "Для элементарной работы с регулярными выражениями этого хватит. В будущем планирую дописать ноутбуки с примерами  работы с флагами компиляции и с расширенным синтаксисом регулярных выражений. "
   ]
  },
  {
   "cell_type": "code",
   "execution_count": 37,
   "metadata": {
    "collapsed": true
   },
   "outputs": [],
   "source": [
    "# Best regards, steninss"
   ]
  }
 ],
 "metadata": {
  "kernelspec": {
   "display_name": "Python 2",
   "language": "python",
   "name": "python2"
  },
  "language_info": {
   "codemirror_mode": {
    "name": "ipython",
    "version": 2
   },
   "file_extension": ".py",
   "mimetype": "text/x-python",
   "name": "python",
   "nbconvert_exporter": "python",
   "pygments_lexer": "ipython2",
   "version": "2.7.6"
  }
 },
 "nbformat": 4,
 "nbformat_minor": 0
}
